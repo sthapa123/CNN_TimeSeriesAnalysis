{
  "nbformat": 4,
  "nbformat_minor": 0,
  "metadata": {
    "colab": {
      "name": "training_1DCNN_TS.ipynb",
      "provenance": [],
      "collapsed_sections": [],
      "authorship_tag": "ABX9TyMHWNUT1crHjWUzAJvtzt9K",
      "include_colab_link": true
    },
    "kernelspec": {
      "name": "python3",
      "display_name": "Python 3"
    },
    "accelerator": "GPU"
  },
  "cells": [
    {
      "cell_type": "markdown",
      "metadata": {
        "id": "view-in-github",
        "colab_type": "text"
      },
      "source": [
        "<a href=\"https://colab.research.google.com/github/tanmaymaloo/CNN_TimeSeriesAnalysis/blob/main/training_1DCNN_TS.ipynb\" target=\"_parent\"><img src=\"https://colab.research.google.com/assets/colab-badge.svg\" alt=\"Open In Colab\"/></a>"
      ]
    },
    {
      "cell_type": "markdown",
      "metadata": {
        "id": "TSuR-F5td4gb"
      },
      "source": [
        "# **Gdrive mounting**"
      ]
    },
    {
      "cell_type": "code",
      "metadata": {
        "colab": {
          "base_uri": "https://localhost:8080/"
        },
        "id": "rPGNtgHybAzL",
        "outputId": "d3ae4f0f-ff3c-4af4-ffab-7ccfc22c5d81"
      },
      "source": [
        "from google.colab import drive\r\n",
        "drive.mount('/content/gdrive')"
      ],
      "execution_count": 36,
      "outputs": [
        {
          "output_type": "stream",
          "text": [
            "Drive already mounted at /content/gdrive; to attempt to forcibly remount, call drive.mount(\"/content/gdrive\", force_remount=True).\n"
          ],
          "name": "stdout"
        }
      ]
    },
    {
      "cell_type": "code",
      "metadata": {
        "colab": {
          "base_uri": "https://localhost:8080/"
        },
        "id": "OKHGDFJ1bcQq",
        "outputId": "0463af91-2785-4ec9-a6a8-e9aac144a5be"
      },
      "source": [
        "cd gdrive/MyDrive/BTP/\r\n"
      ],
      "execution_count": 37,
      "outputs": [
        {
          "output_type": "stream",
          "text": [
            "[Errno 2] No such file or directory: 'gdrive/MyDrive/BTP/'\n",
            "/content/gdrive/MyDrive/BTP\n"
          ],
          "name": "stdout"
        }
      ]
    },
    {
      "cell_type": "code",
      "metadata": {
        "colab": {
          "base_uri": "https://localhost:8080/"
        },
        "id": "gyBPM3ijdlmP",
        "outputId": "7ac3439a-5f04-423b-ced6-6eac6b710736"
      },
      "source": [
        "ls"
      ],
      "execution_count": 38,
      "outputs": [
        {
          "output_type": "stream",
          "text": [
            "BTP_2020.gslides  X.txt  y.txt\n"
          ],
          "name": "stdout"
        }
      ]
    },
    {
      "cell_type": "markdown",
      "metadata": {
        "id": "bgj9dXr8MXSB"
      },
      "source": [
        "# **Importing and reshaping data**"
      ]
    },
    {
      "cell_type": "code",
      "metadata": {
        "id": "6pKHn8eRjWCH"
      },
      "source": [
        "from numpy import array\n",
        "import numpy as np\n",
        "import pandas as pd\n",
        "from numpy import hstack\n",
        "from keras.models import Sequential\n",
        "from keras.layers import Dense\n",
        "from keras.layers import Flatten\n",
        "from keras.layers.convolutional import Conv1D\n",
        "from keras.layers.convolutional import MaxPooling1D\n",
        "from sklearn.preprocessing import MinMaxScaler"
      ],
      "execution_count": 39,
      "outputs": []
    },
    {
      "cell_type": "code",
      "metadata": {
        "id": "VmFEt-ltZMeb"
      },
      "source": [
        "X_np_shape=(2606, 60, 4)"
      ],
      "execution_count": 40,
      "outputs": []
    },
    {
      "cell_type": "code",
      "metadata": {
        "id": "Yq1i8W9rWia8"
      },
      "source": [
        "# retrieving data from file. \n",
        "loaded_X = np.loadtxt(\"X.txt\") \n",
        "x_np=(2606, 60, 4)\n",
        "# This loadedArr is a 2D array, therefore \n",
        "# we need to convert it to the original \n",
        "# array shape.reshaping to get original \n",
        "# matrice with original shape. \n",
        "load_original_X = loaded_X.reshape(loaded_X.shape[0], loaded_X.shape[1] // X_np_shape[2], X_np_shape[2]) "
      ],
      "execution_count": 41,
      "outputs": []
    },
    {
      "cell_type": "code",
      "metadata": {
        "id": "E0tjRdY4Wkd3",
        "colab": {
          "base_uri": "https://localhost:8080/"
        },
        "outputId": "460d9cc4-fbdd-4976-c9dd-2627205561bd"
      },
      "source": [
        "np.shape(load_original_X)"
      ],
      "execution_count": 42,
      "outputs": [
        {
          "output_type": "execute_result",
          "data": {
            "text/plain": [
              "(2606, 60, 4)"
            ]
          },
          "metadata": {
            "tags": []
          },
          "execution_count": 42
        }
      ]
    },
    {
      "cell_type": "code",
      "metadata": {
        "id": "8shDUEe-Wmfo",
        "colab": {
          "base_uri": "https://localhost:8080/"
        },
        "outputId": "183b1e48-2924-4651-db18-36a755d0ddf3"
      },
      "source": [
        "load_original_X[:2]"
      ],
      "execution_count": 43,
      "outputs": [
        {
          "output_type": "execute_result",
          "data": {
            "text/plain": [
              "array([[[ 7.4498e+02,  4.4700e+00,  9.3908e+02,  1.3500e+00],\n",
              "        [ 7.4655e+02, -2.0400e+00,  9.3338e+02, -1.1300e+00],\n",
              "        [ 7.4295e+02,  5.7000e-01,  9.4403e+02,  2.8000e-01],\n",
              "        [ 7.4610e+02,  5.0500e+00,  9.3720e+02,  1.4300e+00],\n",
              "        [ 7.4723e+02,  8.0500e+00,  9.3255e+02,  1.5700e+00],\n",
              "        [ 7.4580e+02,  2.8000e-01,  9.3660e+02, -6.0000e-01],\n",
              "        [ 7.4415e+02,  7.2800e+00,  9.3758e+02,  1.5600e+00],\n",
              "        [ 7.4715e+02,  2.8300e+00,  9.3008e+02,  3.0000e-01],\n",
              "        [ 7.4798e+02,  3.9700e+00,  9.3713e+02,  2.4000e-01],\n",
              "        [ 7.4708e+02,  3.6900e+00,  9.3675e+02,  1.5200e+00],\n",
              "        [ 7.4895e+02,  4.0900e+00,  9.3330e+02,  6.5000e-01],\n",
              "        [ 7.4693e+02,  4.0700e+00,  9.3495e+02,  1.1600e+00],\n",
              "        [ 7.4430e+02,  5.7000e+00,  9.3750e+02,  1.3300e+00],\n",
              "        [ 7.4513e+02,  3.4600e+00,  9.3503e+02,  2.6000e-01],\n",
              "        [ 7.4145e+02,  4.9700e+00,  9.3938e+02,  1.0800e+00],\n",
              "        [ 7.4573e+02,  2.8400e+00,  9.3030e+02,  7.7000e-01],\n",
              "        [ 7.4348e+02,  3.3200e+00,  9.3893e+02,  8.1000e-01],\n",
              "        [ 7.4423e+02,  5.1600e+00,  9.3368e+02,  6.3000e-01],\n",
              "        [ 7.4633e+02,  3.0100e+00,  9.3045e+02,  8.1000e-01],\n",
              "        [ 7.4205e+02,  3.9400e+00,  9.3915e+02,  5.9000e-01],\n",
              "        [ 7.4310e+02,  3.9100e+00,  9.3068e+02,  8.7000e-01],\n",
              "        [ 7.4228e+02,  6.0700e+00,  9.3128e+02,  1.2400e+00],\n",
              "        [ 7.4093e+02,  5.4900e+00,  9.3533e+02,  8.5000e-01],\n",
              "        [ 7.4483e+02,  4.2100e+00,  9.2723e+02,  1.1500e+00],\n",
              "        [ 7.4565e+02,  2.9700e+00,  9.3525e+02,  1.0000e-02],\n",
              "        [ 7.4640e+02,  3.1200e+00,  9.3293e+02,  1.0500e+00],\n",
              "        [ 7.4798e+02,  1.6200e+00,  9.2580e+02,  3.4000e-01],\n",
              "        [ 7.4738e+02,  3.6700e+00,  9.2798e+02,  8.8000e-01],\n",
              "        [ 7.4693e+02,  5.1000e+00,  9.2415e+02,  1.0200e+00],\n",
              "        [ 7.4595e+02,  6.3900e+00,  9.2558e+02,  1.9900e+00],\n",
              "        [ 7.4588e+02,  6.1700e+00,  9.1950e+02,  6.9000e-01],\n",
              "        [ 7.4528e+02,  6.1000e-01,  9.2475e+02,  1.0000e-02],\n",
              "        [ 7.4588e+02,  3.3400e+00,  9.2633e+02,  1.4200e+00],\n",
              "        [ 7.4865e+02,  5.4900e+00,  9.2288e+02,  1.1600e+00],\n",
              "        [ 7.5068e+02,  1.2600e+00,  9.2288e+02,  7.8000e-01],\n",
              "        [ 7.4940e+02,  4.9200e+00,  9.2745e+02,  9.5000e-01],\n",
              "        [ 7.5038e+02,  6.8400e+00,  9.2805e+02,  1.3600e+00],\n",
              "        [ 7.5015e+02,  5.7400e+00,  9.2625e+02,  1.0700e+00],\n",
              "        [ 7.4858e+02,  3.4000e+00,  9.2483e+02,  9.2000e-01],\n",
              "        [ 7.4528e+02,  5.4000e+00,  9.2963e+02,  7.5000e-01],\n",
              "        [ 7.4528e+02,  4.5300e+00,  9.2640e+02,  1.2600e+00],\n",
              "        [ 7.4633e+02,  2.3500e+00,  9.2258e+02,  6.2000e-01],\n",
              "        [ 7.4663e+02,  5.2000e+00,  9.2520e+02,  1.2700e+00],\n",
              "        [ 7.4745e+02,  3.1400e+00,  9.2520e+02,  7.7000e-01],\n",
              "        [ 7.4640e+02,  5.3200e+00,  9.2805e+02,  1.7200e+00],\n",
              "        [ 7.4828e+02,  5.3800e+00,  9.2340e+02,  1.1800e+00],\n",
              "        [ 7.4663e+02,  6.3000e+00,  9.2220e+02,  9.4000e-01],\n",
              "        [ 7.4355e+02,  2.5700e+00,  9.2400e+02,  4.5000e-01],\n",
              "        [ 7.4003e+02,  8.5600e+00,  9.2640e+02,  1.9200e+00],\n",
              "        [ 7.4070e+02,  4.1800e+00,  9.1838e+02,  9.7000e-01],\n",
              "        [ 7.4063e+02,  4.0300e+00,  9.2138e+02,  9.4000e-01],\n",
              "        [ 7.4055e+02,  4.1700e+00,  9.2340e+02,  1.0700e+00],\n",
              "        [ 7.4018e+02,  5.2900e+00,  9.2100e+02,  1.4500e+00],\n",
              "        [ 7.3875e+02,  3.6300e+00,  9.1635e+02,  6.4000e-01],\n",
              "        [ 7.3853e+02,  6.8800e+00,  9.1868e+02,  1.6700e+00],\n",
              "        [ 7.4093e+02,  1.8000e+00,  9.1928e+02,  9.4000e-01],\n",
              "        [ 7.4168e+02,  2.9200e+00,  9.2453e+02,  3.3000e-01],\n",
              "        [ 7.4213e+02,  7.1800e+00,  9.1890e+02,  2.2800e+00],\n",
              "        [ 7.4100e+02,  4.3200e+00,  9.2025e+02,  8.4000e-01],\n",
              "        [ 7.3980e+02,  3.6700e+00,  9.1868e+02,  1.1900e+00]],\n",
              "\n",
              "       [[ 7.4430e+02,  5.7000e+00,  9.3750e+02,  1.3300e+00],\n",
              "        [ 7.4513e+02,  3.4600e+00,  9.3503e+02,  2.6000e-01],\n",
              "        [ 7.4145e+02,  4.9700e+00,  9.3938e+02,  1.0800e+00],\n",
              "        [ 7.4573e+02,  2.8400e+00,  9.3030e+02,  7.7000e-01],\n",
              "        [ 7.4348e+02,  3.3200e+00,  9.3893e+02,  8.1000e-01],\n",
              "        [ 7.4423e+02,  5.1600e+00,  9.3368e+02,  6.3000e-01],\n",
              "        [ 7.4633e+02,  3.0100e+00,  9.3045e+02,  8.1000e-01],\n",
              "        [ 7.4205e+02,  3.9400e+00,  9.3915e+02,  5.9000e-01],\n",
              "        [ 7.4310e+02,  3.9100e+00,  9.3068e+02,  8.7000e-01],\n",
              "        [ 7.4228e+02,  6.0700e+00,  9.3128e+02,  1.2400e+00],\n",
              "        [ 7.4093e+02,  5.4900e+00,  9.3533e+02,  8.5000e-01],\n",
              "        [ 7.4483e+02,  4.2100e+00,  9.2723e+02,  1.1500e+00],\n",
              "        [ 7.4565e+02,  2.9700e+00,  9.3525e+02,  1.0000e-02],\n",
              "        [ 7.4640e+02,  3.1200e+00,  9.3293e+02,  1.0500e+00],\n",
              "        [ 7.4798e+02,  1.6200e+00,  9.2580e+02,  3.4000e-01],\n",
              "        [ 7.4738e+02,  3.6700e+00,  9.2798e+02,  8.8000e-01],\n",
              "        [ 7.4693e+02,  5.1000e+00,  9.2415e+02,  1.0200e+00],\n",
              "        [ 7.4595e+02,  6.3900e+00,  9.2558e+02,  1.9900e+00],\n",
              "        [ 7.4588e+02,  6.1700e+00,  9.1950e+02,  6.9000e-01],\n",
              "        [ 7.4528e+02,  6.1000e-01,  9.2475e+02,  1.0000e-02],\n",
              "        [ 7.4588e+02,  3.3400e+00,  9.2633e+02,  1.4200e+00],\n",
              "        [ 7.4865e+02,  5.4900e+00,  9.2288e+02,  1.1600e+00],\n",
              "        [ 7.5068e+02,  1.2600e+00,  9.2288e+02,  7.8000e-01],\n",
              "        [ 7.4940e+02,  4.9200e+00,  9.2745e+02,  9.5000e-01],\n",
              "        [ 7.5038e+02,  6.8400e+00,  9.2805e+02,  1.3600e+00],\n",
              "        [ 7.5015e+02,  5.7400e+00,  9.2625e+02,  1.0700e+00],\n",
              "        [ 7.4858e+02,  3.4000e+00,  9.2483e+02,  9.2000e-01],\n",
              "        [ 7.4528e+02,  5.4000e+00,  9.2963e+02,  7.5000e-01],\n",
              "        [ 7.4528e+02,  4.5300e+00,  9.2640e+02,  1.2600e+00],\n",
              "        [ 7.4633e+02,  2.3500e+00,  9.2258e+02,  6.2000e-01],\n",
              "        [ 7.4663e+02,  5.2000e+00,  9.2520e+02,  1.2700e+00],\n",
              "        [ 7.4745e+02,  3.1400e+00,  9.2520e+02,  7.7000e-01],\n",
              "        [ 7.4640e+02,  5.3200e+00,  9.2805e+02,  1.7200e+00],\n",
              "        [ 7.4828e+02,  5.3800e+00,  9.2340e+02,  1.1800e+00],\n",
              "        [ 7.4663e+02,  6.3000e+00,  9.2220e+02,  9.4000e-01],\n",
              "        [ 7.4355e+02,  2.5700e+00,  9.2400e+02,  4.5000e-01],\n",
              "        [ 7.4003e+02,  8.5600e+00,  9.2640e+02,  1.9200e+00],\n",
              "        [ 7.4070e+02,  4.1800e+00,  9.1838e+02,  9.7000e-01],\n",
              "        [ 7.4063e+02,  4.0300e+00,  9.2138e+02,  9.4000e-01],\n",
              "        [ 7.4055e+02,  4.1700e+00,  9.2340e+02,  1.0700e+00],\n",
              "        [ 7.4018e+02,  5.2900e+00,  9.2100e+02,  1.4500e+00],\n",
              "        [ 7.3875e+02,  3.6300e+00,  9.1635e+02,  6.4000e-01],\n",
              "        [ 7.3853e+02,  6.8800e+00,  9.1868e+02,  1.6700e+00],\n",
              "        [ 7.4093e+02,  1.8000e+00,  9.1928e+02,  9.4000e-01],\n",
              "        [ 7.4168e+02,  2.9200e+00,  9.2453e+02,  3.3000e-01],\n",
              "        [ 7.4213e+02,  7.1800e+00,  9.1890e+02,  2.2800e+00],\n",
              "        [ 7.4100e+02,  4.3200e+00,  9.2025e+02,  8.4000e-01],\n",
              "        [ 7.3980e+02,  3.6700e+00,  9.1868e+02,  1.1900e+00],\n",
              "        [ 7.4048e+02,  4.4300e+00,  9.1883e+02,  9.0000e-01],\n",
              "        [ 7.3943e+02,  1.6500e+00,  9.2168e+02,  8.7000e-01],\n",
              "        [ 7.3860e+02,  5.9000e+00,  9.1988e+02,  1.4100e+00],\n",
              "        [ 7.3980e+02,  5.4300e+00,  9.2063e+02,  1.2100e+00],\n",
              "        [ 7.4138e+02,  4.7200e+00,  9.1583e+02,  7.9000e-01],\n",
              "        [ 7.3920e+02,  6.3700e+00,  9.2280e+02,  1.6900e+00],\n",
              "        [ 7.4055e+02,  2.4900e+00,  9.1658e+02,  6.0000e-01],\n",
              "        [ 7.3800e+02,  3.5300e+00,  9.2040e+02,  7.3000e-01],\n",
              "        [ 7.3778e+02,  6.3600e+00,  9.2340e+02,  2.0200e+00],\n",
              "        [ 7.3950e+02,  1.5500e+00,  9.1755e+02,  4.9000e-01],\n",
              "        [ 7.3860e+02,  4.5500e+00,  9.2003e+02,  1.0400e+00],\n",
              "        [ 7.4220e+02,  3.5600e+00,  9.1538e+02,  6.1000e-01]]])"
            ]
          },
          "metadata": {
            "tags": []
          },
          "execution_count": 43
        }
      ]
    },
    {
      "cell_type": "code",
      "metadata": {
        "id": "qf6pbTscWmaj",
        "colab": {
          "base_uri": "https://localhost:8080/"
        },
        "outputId": "f87773e5-d762-4779-af80-57c8dc2e9f64"
      },
      "source": [
        "load_original_y = np.loadtxt(\"y.txt\") \n",
        "load_original_y=load_original_y.reshape(load_original_y.shape[0],1)\n",
        "np.shape(load_original_y)"
      ],
      "execution_count": 44,
      "outputs": [
        {
          "output_type": "execute_result",
          "data": {
            "text/plain": [
              "(2606, 1)"
            ]
          },
          "metadata": {
            "tags": []
          },
          "execution_count": 44
        }
      ]
    },
    {
      "cell_type": "code",
      "metadata": {
        "id": "Tbk56tu8WmVc",
        "colab": {
          "base_uri": "https://localhost:8080/"
        },
        "outputId": "40a05770-c362-48ee-bc0d-fb90a929c4ef"
      },
      "source": [
        "for i in range(2):\n",
        "  print(load_original_X[i], load_original_y[i])"
      ],
      "execution_count": 45,
      "outputs": [
        {
          "output_type": "stream",
          "text": [
            "[[ 7.4498e+02  4.4700e+00  9.3908e+02  1.3500e+00]\n",
            " [ 7.4655e+02 -2.0400e+00  9.3338e+02 -1.1300e+00]\n",
            " [ 7.4295e+02  5.7000e-01  9.4403e+02  2.8000e-01]\n",
            " [ 7.4610e+02  5.0500e+00  9.3720e+02  1.4300e+00]\n",
            " [ 7.4723e+02  8.0500e+00  9.3255e+02  1.5700e+00]\n",
            " [ 7.4580e+02  2.8000e-01  9.3660e+02 -6.0000e-01]\n",
            " [ 7.4415e+02  7.2800e+00  9.3758e+02  1.5600e+00]\n",
            " [ 7.4715e+02  2.8300e+00  9.3008e+02  3.0000e-01]\n",
            " [ 7.4798e+02  3.9700e+00  9.3713e+02  2.4000e-01]\n",
            " [ 7.4708e+02  3.6900e+00  9.3675e+02  1.5200e+00]\n",
            " [ 7.4895e+02  4.0900e+00  9.3330e+02  6.5000e-01]\n",
            " [ 7.4693e+02  4.0700e+00  9.3495e+02  1.1600e+00]\n",
            " [ 7.4430e+02  5.7000e+00  9.3750e+02  1.3300e+00]\n",
            " [ 7.4513e+02  3.4600e+00  9.3503e+02  2.6000e-01]\n",
            " [ 7.4145e+02  4.9700e+00  9.3938e+02  1.0800e+00]\n",
            " [ 7.4573e+02  2.8400e+00  9.3030e+02  7.7000e-01]\n",
            " [ 7.4348e+02  3.3200e+00  9.3893e+02  8.1000e-01]\n",
            " [ 7.4423e+02  5.1600e+00  9.3368e+02  6.3000e-01]\n",
            " [ 7.4633e+02  3.0100e+00  9.3045e+02  8.1000e-01]\n",
            " [ 7.4205e+02  3.9400e+00  9.3915e+02  5.9000e-01]\n",
            " [ 7.4310e+02  3.9100e+00  9.3068e+02  8.7000e-01]\n",
            " [ 7.4228e+02  6.0700e+00  9.3128e+02  1.2400e+00]\n",
            " [ 7.4093e+02  5.4900e+00  9.3533e+02  8.5000e-01]\n",
            " [ 7.4483e+02  4.2100e+00  9.2723e+02  1.1500e+00]\n",
            " [ 7.4565e+02  2.9700e+00  9.3525e+02  1.0000e-02]\n",
            " [ 7.4640e+02  3.1200e+00  9.3293e+02  1.0500e+00]\n",
            " [ 7.4798e+02  1.6200e+00  9.2580e+02  3.4000e-01]\n",
            " [ 7.4738e+02  3.6700e+00  9.2798e+02  8.8000e-01]\n",
            " [ 7.4693e+02  5.1000e+00  9.2415e+02  1.0200e+00]\n",
            " [ 7.4595e+02  6.3900e+00  9.2558e+02  1.9900e+00]\n",
            " [ 7.4588e+02  6.1700e+00  9.1950e+02  6.9000e-01]\n",
            " [ 7.4528e+02  6.1000e-01  9.2475e+02  1.0000e-02]\n",
            " [ 7.4588e+02  3.3400e+00  9.2633e+02  1.4200e+00]\n",
            " [ 7.4865e+02  5.4900e+00  9.2288e+02  1.1600e+00]\n",
            " [ 7.5068e+02  1.2600e+00  9.2288e+02  7.8000e-01]\n",
            " [ 7.4940e+02  4.9200e+00  9.2745e+02  9.5000e-01]\n",
            " [ 7.5038e+02  6.8400e+00  9.2805e+02  1.3600e+00]\n",
            " [ 7.5015e+02  5.7400e+00  9.2625e+02  1.0700e+00]\n",
            " [ 7.4858e+02  3.4000e+00  9.2483e+02  9.2000e-01]\n",
            " [ 7.4528e+02  5.4000e+00  9.2963e+02  7.5000e-01]\n",
            " [ 7.4528e+02  4.5300e+00  9.2640e+02  1.2600e+00]\n",
            " [ 7.4633e+02  2.3500e+00  9.2258e+02  6.2000e-01]\n",
            " [ 7.4663e+02  5.2000e+00  9.2520e+02  1.2700e+00]\n",
            " [ 7.4745e+02  3.1400e+00  9.2520e+02  7.7000e-01]\n",
            " [ 7.4640e+02  5.3200e+00  9.2805e+02  1.7200e+00]\n",
            " [ 7.4828e+02  5.3800e+00  9.2340e+02  1.1800e+00]\n",
            " [ 7.4663e+02  6.3000e+00  9.2220e+02  9.4000e-01]\n",
            " [ 7.4355e+02  2.5700e+00  9.2400e+02  4.5000e-01]\n",
            " [ 7.4003e+02  8.5600e+00  9.2640e+02  1.9200e+00]\n",
            " [ 7.4070e+02  4.1800e+00  9.1838e+02  9.7000e-01]\n",
            " [ 7.4063e+02  4.0300e+00  9.2138e+02  9.4000e-01]\n",
            " [ 7.4055e+02  4.1700e+00  9.2340e+02  1.0700e+00]\n",
            " [ 7.4018e+02  5.2900e+00  9.2100e+02  1.4500e+00]\n",
            " [ 7.3875e+02  3.6300e+00  9.1635e+02  6.4000e-01]\n",
            " [ 7.3853e+02  6.8800e+00  9.1868e+02  1.6700e+00]\n",
            " [ 7.4093e+02  1.8000e+00  9.1928e+02  9.4000e-01]\n",
            " [ 7.4168e+02  2.9200e+00  9.2453e+02  3.3000e-01]\n",
            " [ 7.4213e+02  7.1800e+00  9.1890e+02  2.2800e+00]\n",
            " [ 7.4100e+02  4.3200e+00  9.2025e+02  8.4000e-01]\n",
            " [ 7.3980e+02  3.6700e+00  9.1868e+02  1.1900e+00]] [83.2]\n",
            "[[7.4430e+02 5.7000e+00 9.3750e+02 1.3300e+00]\n",
            " [7.4513e+02 3.4600e+00 9.3503e+02 2.6000e-01]\n",
            " [7.4145e+02 4.9700e+00 9.3938e+02 1.0800e+00]\n",
            " [7.4573e+02 2.8400e+00 9.3030e+02 7.7000e-01]\n",
            " [7.4348e+02 3.3200e+00 9.3893e+02 8.1000e-01]\n",
            " [7.4423e+02 5.1600e+00 9.3368e+02 6.3000e-01]\n",
            " [7.4633e+02 3.0100e+00 9.3045e+02 8.1000e-01]\n",
            " [7.4205e+02 3.9400e+00 9.3915e+02 5.9000e-01]\n",
            " [7.4310e+02 3.9100e+00 9.3068e+02 8.7000e-01]\n",
            " [7.4228e+02 6.0700e+00 9.3128e+02 1.2400e+00]\n",
            " [7.4093e+02 5.4900e+00 9.3533e+02 8.5000e-01]\n",
            " [7.4483e+02 4.2100e+00 9.2723e+02 1.1500e+00]\n",
            " [7.4565e+02 2.9700e+00 9.3525e+02 1.0000e-02]\n",
            " [7.4640e+02 3.1200e+00 9.3293e+02 1.0500e+00]\n",
            " [7.4798e+02 1.6200e+00 9.2580e+02 3.4000e-01]\n",
            " [7.4738e+02 3.6700e+00 9.2798e+02 8.8000e-01]\n",
            " [7.4693e+02 5.1000e+00 9.2415e+02 1.0200e+00]\n",
            " [7.4595e+02 6.3900e+00 9.2558e+02 1.9900e+00]\n",
            " [7.4588e+02 6.1700e+00 9.1950e+02 6.9000e-01]\n",
            " [7.4528e+02 6.1000e-01 9.2475e+02 1.0000e-02]\n",
            " [7.4588e+02 3.3400e+00 9.2633e+02 1.4200e+00]\n",
            " [7.4865e+02 5.4900e+00 9.2288e+02 1.1600e+00]\n",
            " [7.5068e+02 1.2600e+00 9.2288e+02 7.8000e-01]\n",
            " [7.4940e+02 4.9200e+00 9.2745e+02 9.5000e-01]\n",
            " [7.5038e+02 6.8400e+00 9.2805e+02 1.3600e+00]\n",
            " [7.5015e+02 5.7400e+00 9.2625e+02 1.0700e+00]\n",
            " [7.4858e+02 3.4000e+00 9.2483e+02 9.2000e-01]\n",
            " [7.4528e+02 5.4000e+00 9.2963e+02 7.5000e-01]\n",
            " [7.4528e+02 4.5300e+00 9.2640e+02 1.2600e+00]\n",
            " [7.4633e+02 2.3500e+00 9.2258e+02 6.2000e-01]\n",
            " [7.4663e+02 5.2000e+00 9.2520e+02 1.2700e+00]\n",
            " [7.4745e+02 3.1400e+00 9.2520e+02 7.7000e-01]\n",
            " [7.4640e+02 5.3200e+00 9.2805e+02 1.7200e+00]\n",
            " [7.4828e+02 5.3800e+00 9.2340e+02 1.1800e+00]\n",
            " [7.4663e+02 6.3000e+00 9.2220e+02 9.4000e-01]\n",
            " [7.4355e+02 2.5700e+00 9.2400e+02 4.5000e-01]\n",
            " [7.4003e+02 8.5600e+00 9.2640e+02 1.9200e+00]\n",
            " [7.4070e+02 4.1800e+00 9.1838e+02 9.7000e-01]\n",
            " [7.4063e+02 4.0300e+00 9.2138e+02 9.4000e-01]\n",
            " [7.4055e+02 4.1700e+00 9.2340e+02 1.0700e+00]\n",
            " [7.4018e+02 5.2900e+00 9.2100e+02 1.4500e+00]\n",
            " [7.3875e+02 3.6300e+00 9.1635e+02 6.4000e-01]\n",
            " [7.3853e+02 6.8800e+00 9.1868e+02 1.6700e+00]\n",
            " [7.4093e+02 1.8000e+00 9.1928e+02 9.4000e-01]\n",
            " [7.4168e+02 2.9200e+00 9.2453e+02 3.3000e-01]\n",
            " [7.4213e+02 7.1800e+00 9.1890e+02 2.2800e+00]\n",
            " [7.4100e+02 4.3200e+00 9.2025e+02 8.4000e-01]\n",
            " [7.3980e+02 3.6700e+00 9.1868e+02 1.1900e+00]\n",
            " [7.4048e+02 4.4300e+00 9.1883e+02 9.0000e-01]\n",
            " [7.3943e+02 1.6500e+00 9.2168e+02 8.7000e-01]\n",
            " [7.3860e+02 5.9000e+00 9.1988e+02 1.4100e+00]\n",
            " [7.3980e+02 5.4300e+00 9.2063e+02 1.2100e+00]\n",
            " [7.4138e+02 4.7200e+00 9.1583e+02 7.9000e-01]\n",
            " [7.3920e+02 6.3700e+00 9.2280e+02 1.6900e+00]\n",
            " [7.4055e+02 2.4900e+00 9.1658e+02 6.0000e-01]\n",
            " [7.3800e+02 3.5300e+00 9.2040e+02 7.3000e-01]\n",
            " [7.3778e+02 6.3600e+00 9.2340e+02 2.0200e+00]\n",
            " [7.3950e+02 1.5500e+00 9.1755e+02 4.9000e-01]\n",
            " [7.3860e+02 4.5500e+00 9.2003e+02 1.0400e+00]\n",
            " [7.4220e+02 3.5600e+00 9.1538e+02 6.1000e-01]] [83.]\n"
          ],
          "name": "stdout"
        }
      ]
    },
    {
      "cell_type": "code",
      "metadata": {
        "id": "iQx_rrHoE-Pv"
      },
      "source": [
        "#scaler = MinMaxScaler()\n",
        "#scaler.fit(load_original_y)"
      ],
      "execution_count": 46,
      "outputs": []
    },
    {
      "cell_type": "markdown",
      "metadata": {
        "id": "SZf6guvayI2Y"
      },
      "source": [
        "# **CETEGORICAL CLASSIFICATION**"
      ]
    },
    {
      "cell_type": "code",
      "metadata": {
        "id": "aUi8NeFOOJr8"
      },
      "source": [
        "for i in load_original_y:\r\n",
        "  print(i)"
      ],
      "execution_count": null,
      "outputs": []
    },
    {
      "cell_type": "code",
      "metadata": {
        "colab": {
          "base_uri": "https://localhost:8080/"
        },
        "id": "_I7JCHNmMW5H",
        "outputId": "3d4995fa-b826-407d-dde0-f2c6bb90936e"
      },
      "source": [
        "total = 0\r\n",
        "count=0\r\n",
        "max = load_original_y[0]\r\n",
        "min = load_original_y[0]\r\n",
        "for i in load_original_y:\r\n",
        "  if i<min and i>60:\r\n",
        "    min =i\r\n",
        "  elif i> max:\r\n",
        "    max = i\r\n",
        "  if i > 0.60:\r\n",
        "    total = total+i\r\n",
        "  else:\r\n",
        "    count=count+1\r\n",
        "\r\n",
        "\r\n",
        "n= len(load_original_y)\r\n",
        "mean = total/(n-count)\r\n",
        "print(\"mean : \", total/(n-count))\r\n",
        "print(\"max: \", max)\r\n",
        "print(\"min: \", min)"
      ],
      "execution_count": 48,
      "outputs": [
        {
          "output_type": "stream",
          "text": [
            "mean :  [82.67793553]\n",
            "max:  [89.4]\n",
            "min:  [62.]\n"
          ],
          "name": "stdout"
        }
      ]
    },
    {
      "cell_type": "code",
      "metadata": {
        "colab": {
          "base_uri": "https://localhost:8080/"
        },
        "id": "f7mJBcmoTRJ6",
        "outputId": "24572460-1a0f-4544-e1ee-3bf9794a338c"
      },
      "source": [
        "AA = load_original_y.reshape(load_original_y.shape[0])\r\n",
        "import statistics\r\n",
        "statistics.variance(AA)"
      ],
      "execution_count": 49,
      "outputs": [
        {
          "output_type": "execute_result",
          "data": {
            "text/plain": [
              "8.986127175880847"
            ]
          },
          "metadata": {
            "tags": []
          },
          "execution_count": 49
        }
      ]
    },
    {
      "cell_type": "code",
      "metadata": {
        "id": "EFfbqJ0HaHWz"
      },
      "source": [
        "cat = np.zeros(load_original_y.shape)"
      ],
      "execution_count": 50,
      "outputs": []
    },
    {
      "cell_type": "code",
      "metadata": {
        "colab": {
          "base_uri": "https://localhost:8080/"
        },
        "id": "v4bTGcj-GRqk",
        "outputId": "1b5838d5-5a5a-473e-fe62-dceb22c18bcd"
      },
      "source": [
        "cat"
      ],
      "execution_count": 51,
      "outputs": [
        {
          "output_type": "execute_result",
          "data": {
            "text/plain": [
              "array([[0.],\n",
              "       [0.],\n",
              "       [0.],\n",
              "       ...,\n",
              "       [0.],\n",
              "       [0.],\n",
              "       [0.]])"
            ]
          },
          "metadata": {
            "tags": []
          },
          "execution_count": 51
        }
      ]
    },
    {
      "cell_type": "code",
      "metadata": {
        "id": "_ZRkxa_aZgJ9"
      },
      "source": [
        "d= 0\r\n",
        "count0 = 0\r\n",
        "countneg = 0\r\n",
        "countpos = 0\r\n",
        "\r\n",
        "for i in range(1, len(load_original_y)):\r\n",
        "  d = load_original_y[i] - load_original_y[i-1]\r\n",
        "  if  d <= 0.5 and d >= -0.5:\r\n",
        "    cat[i] = 0\r\n",
        "    count0 = count0+1\r\n",
        "  elif d > 0.5 :\r\n",
        "    cat[i] = 1\r\n",
        "    countpos = countpos+1\r\n",
        "  elif d<-0.5:\r\n",
        "    cat[i] = -1\r\n",
        "    countneg = countneg+1"
      ],
      "execution_count": 52,
      "outputs": []
    },
    {
      "cell_type": "code",
      "metadata": {
        "colab": {
          "base_uri": "https://localhost:8080/"
        },
        "id": "2ADwXDdfF7ff",
        "outputId": "2e9bdb0d-6d52-4c59-dacc-b0b52d5f971d"
      },
      "source": [
        "cat[0:10]"
      ],
      "execution_count": 53,
      "outputs": [
        {
          "output_type": "execute_result",
          "data": {
            "text/plain": [
              "array([[ 0.],\n",
              "       [ 0.],\n",
              "       [ 0.],\n",
              "       [-1.],\n",
              "       [ 1.],\n",
              "       [ 1.],\n",
              "       [-1.],\n",
              "       [ 0.],\n",
              "       [ 1.],\n",
              "       [ 1.]])"
            ]
          },
          "metadata": {
            "tags": []
          },
          "execution_count": 53
        }
      ]
    },
    {
      "cell_type": "code",
      "metadata": {
        "colab": {
          "base_uri": "https://localhost:8080/",
          "height": 336
        },
        "id": "o_Ij1DRXHBUJ",
        "outputId": "0b0ac5c3-6c95-4b63-f537-947112e523b8"
      },
      "source": [
        "import matplotlib.pyplot as plt\r\n",
        "fig = plt.figure()\r\n",
        "ax = fig.add_axes([0,0,1,1])\r\n",
        "category = ['between -0.5 and 0.5', '>0.5', '<-0.5']\r\n",
        "freq = [count0, countpos, countneg]\r\n",
        "ax.bar(category,freq)\r\n",
        "plt.show()"
      ],
      "execution_count": 54,
      "outputs": [
        {
          "output_type": "display_data",
          "data": {
            "image/png": "[encoded data removed]",
            "text/plain": [
              "<Figure size 432x288 with 1 Axes>"
            ]
          },
          "metadata": {
            "tags": [],
            "needs_background": "light"
          }
        }
      ]
    },
    {
      "cell_type": "code",
      "metadata": {
        "colab": {
          "base_uri": "https://localhost:8080/",
          "height": 315
        },
        "id": "m-Da-79xennO",
        "outputId": "93d2a338-af03-4a47-e24d-10ee20ade16d"
      },
      "source": [
        "#fig, ax = plt.subplots(1,1)\r\n",
        "#ax.hist(cat, bins = 3)"
      ],
      "execution_count": 69,
      "outputs": [
        {
          "output_type": "execute_result",
          "data": {
            "text/plain": [
              "(array([ 745., 1018.,  843.]),\n",
              " array([-1.        , -0.33333333,  0.33333333,  1.        ]),\n",
              " <a list of 3 Patch objects>)"
            ]
          },
          "metadata": {
            "tags": []
          },
          "execution_count": 69
        },
        {
          "output_type": "display_data",
          "data": {
            "image/png": "[encoded data removed]",
            "text/plain": [
              "<Figure size 432x288 with 1 Axes>"
            ]
          },
          "metadata": {
            "tags": [],
            "needs_background": "light"
          }
        }
      ]
    },
    {
      "cell_type": "markdown",
      "metadata": {
        "id": "f6GnU10tMBf3"
      },
      "source": [
        "# **Architecture** *old regression model*"
      ]
    },
    {
      "cell_type": "code",
      "metadata": {
        "id": "4_eQwlHBLtZX",
        "colab": {
          "base_uri": "https://localhost:8080/",
          "height": 163
        },
        "outputId": "16f87c38-3505-4e18-82f7-1edfa178fccd"
      },
      "source": [
        "#scaler = MinMaxScaler()\r\n",
        "#scaler.fit(load_original_y)\r\n",
        "load_original_y_t=scaler.transform(load_original_y)"
      ],
      "execution_count": 55,
      "outputs": [
        {
          "output_type": "error",
          "ename": "NameError",
          "evalue": "ignored",
          "traceback": [
            "\u001b[0;31m---------------------------------------------------------------------------\u001b[0m",
            "\u001b[0;31mNameError\u001b[0m                                 Traceback (most recent call last)",
            "\u001b[0;32m<ipython-input-55-b2f5df7e02fe>\u001b[0m in \u001b[0;36m<module>\u001b[0;34m()\u001b[0m\n\u001b[0;32m----> 1\u001b[0;31m \u001b[0mload_original_y_t\u001b[0m\u001b[0;34m=\u001b[0m\u001b[0mscaler\u001b[0m\u001b[0;34m.\u001b[0m\u001b[0mtransform\u001b[0m\u001b[0;34m(\u001b[0m\u001b[0mload_original_y\u001b[0m\u001b[0;34m)\u001b[0m\u001b[0;34m\u001b[0m\u001b[0;34m\u001b[0m\u001b[0m\n\u001b[0m",
            "\u001b[0;31mNameError\u001b[0m: name 'scaler' is not defined"
          ]
        }
      ]
    },
    {
      "cell_type": "code",
      "metadata": {
        "id": "GxCn2tH9jRlk"
      },
      "source": [
        "'''\n",
        "n_steps= np.shape(load_original_X)[1]\n",
        "n_features= np.shape(load_original_X)[2]\n",
        "# define model\n",
        "model = Sequential()\n",
        "model.add(Conv1D(filters=64, kernel_size=4, activation='relu', input_shape=(n_steps, n_features)))\n",
        "model.add(Conv1D(filters=128,kernel_size=4, activation='relu'))\n",
        "model.add(MaxPooling1D(pool_size=4))\n",
        "model.add(Flatten())\n",
        "model.add(Dense(50, activation='relu'))\n",
        "model.add(Dense(30, activation='relu'))\n",
        "model.add(Dense(1))\n",
        "model.compile(optimizer='adam', loss='mse')\n",
        "'''"
      ],
      "execution_count": null,
      "outputs": []
    },
    {
      "cell_type": "code",
      "metadata": {
        "id": "nDc9MRvVDChl"
      },
      "source": [
        "n_steps= np.shape(load_original_X)[1]\r\n",
        "n_features= np.shape(load_original_X)[2]\r\n",
        "# define model\r\n",
        "model = Sequential()\r\n",
        "model.add(Conv1D(filters=64, kernel_size=4, activation='relu', input_shape=(n_steps, n_features)))\r\n",
        "model.add(MaxPooling1D(pool_size=4))\r\n",
        "model.add(Flatten())\r\n",
        "model.add(Dense(30, activation='relu'))\r\n",
        "model.add(Dense(1))\r\n",
        "model.compile(optimizer='adam', loss='mse')"
      ],
      "execution_count": 100,
      "outputs": []
    },
    {
      "cell_type": "code",
      "metadata": {
        "colab": {
          "base_uri": "https://localhost:8080/"
        },
        "id": "-9-3bSo8nOpl",
        "outputId": "5dafa4b1-6800-479d-a6cc-f59841eb98ca"
      },
      "source": [
        "model.summary()"
      ],
      "execution_count": 101,
      "outputs": [
        {
          "output_type": "stream",
          "text": [
            "Model: \"sequential_3\"\n",
            "_________________________________________________________________\n",
            "Layer (type)                 Output Shape              Param #   \n",
            "=================================================================\n",
            "conv1d_3 (Conv1D)            (None, 57, 16)            272       \n",
            "_________________________________________________________________\n",
            "max_pooling1d_3 (MaxPooling1 (None, 14, 16)            0         \n",
            "_________________________________________________________________\n",
            "flatten_3 (Flatten)          (None, 224)               0         \n",
            "_________________________________________________________________\n",
            "dense_6 (Dense)              (None, 5)                 1125      \n",
            "_________________________________________________________________\n",
            "dense_7 (Dense)              (None, 1)                 6         \n",
            "=================================================================\n",
            "Total params: 1,403\n",
            "Trainable params: 1,403\n",
            "Non-trainable params: 0\n",
            "_________________________________________________________________\n"
          ],
          "name": "stdout"
        }
      ]
    },
    {
      "cell_type": "code",
      "metadata": {
        "id": "r3ZTBNWNjYJY",
        "colab": {
          "base_uri": "https://localhost:8080/"
        },
        "outputId": "c114b5c8-8dbd-4243-e9b5-fbf6dae82c64"
      },
      "source": [
        "np.shape(load_original_X[:2200])"
      ],
      "execution_count": 102,
      "outputs": [
        {
          "output_type": "execute_result",
          "data": {
            "text/plain": [
              "(2200, 60, 4)"
            ]
          },
          "metadata": {
            "tags": []
          },
          "execution_count": 102
        }
      ]
    },
    {
      "cell_type": "code",
      "metadata": {
        "id": "fopNiatejZkh",
        "colab": {
          "base_uri": "https://localhost:8080/",
          "height": 163
        },
        "outputId": "16da1164-96f0-4925-8de2-a369522cf8ee"
      },
      "source": [
        "model.fit(array(load_original_X[:2200]).astype('float32'), array(load_original_y_t[:2200]).astype('float32'), epochs=1800, verbose=1)"
      ],
      "execution_count": 98,
      "outputs": [
        {
          "output_type": "error",
          "ename": "NameError",
          "evalue": "ignored",
          "traceback": [
            "\u001b[0;31m---------------------------------------------------------------------------\u001b[0m",
            "\u001b[0;31mNameError\u001b[0m                                 Traceback (most recent call last)",
            "\u001b[0;32m<ipython-input-98-8be69e6e62f3>\u001b[0m in \u001b[0;36m<module>\u001b[0;34m()\u001b[0m\n\u001b[0;32m----> 1\u001b[0;31m \u001b[0mmodel\u001b[0m\u001b[0;34m.\u001b[0m\u001b[0mfit\u001b[0m\u001b[0;34m(\u001b[0m\u001b[0marray\u001b[0m\u001b[0;34m(\u001b[0m\u001b[0mload_original_X\u001b[0m\u001b[0;34m[\u001b[0m\u001b[0;34m:\u001b[0m\u001b[0;36m2200\u001b[0m\u001b[0;34m]\u001b[0m\u001b[0;34m)\u001b[0m\u001b[0;34m.\u001b[0m\u001b[0mastype\u001b[0m\u001b[0;34m(\u001b[0m\u001b[0;34m'float32'\u001b[0m\u001b[0;34m)\u001b[0m\u001b[0;34m,\u001b[0m \u001b[0marray\u001b[0m\u001b[0;34m(\u001b[0m\u001b[0mload_original_y_t\u001b[0m\u001b[0;34m[\u001b[0m\u001b[0;34m:\u001b[0m\u001b[0;36m2200\u001b[0m\u001b[0;34m]\u001b[0m\u001b[0;34m)\u001b[0m\u001b[0;34m.\u001b[0m\u001b[0mastype\u001b[0m\u001b[0;34m(\u001b[0m\u001b[0;34m'float32'\u001b[0m\u001b[0;34m)\u001b[0m\u001b[0;34m,\u001b[0m \u001b[0mepochs\u001b[0m\u001b[0;34m=\u001b[0m\u001b[0;36m1800\u001b[0m\u001b[0;34m,\u001b[0m \u001b[0mverbose\u001b[0m\u001b[0;34m=\u001b[0m\u001b[0;36m1\u001b[0m\u001b[0;34m)\u001b[0m\u001b[0;34m\u001b[0m\u001b[0;34m\u001b[0m\u001b[0m\n\u001b[0m",
            "\u001b[0;31mNameError\u001b[0m: name 'load_original_y_t' is not defined"
          ]
        }
      ]
    },
    {
      "cell_type": "code",
      "metadata": {
        "id": "XEtp-LMmux85"
      },
      "source": [
        "x_input = load_original_X[2].reshape((1, n_steps, n_features))\n",
        "yhat = model.predict(x_input, verbose=0)"
      ],
      "execution_count": 104,
      "outputs": []
    },
    {
      "cell_type": "code",
      "metadata": {
        "id": "K87wsOezo8YL"
      },
      "source": [
        "yhat = model.predict(load_original_X[2200:],verbose=0)"
      ],
      "execution_count": 105,
      "outputs": []
    },
    {
      "cell_type": "code",
      "metadata": {
        "id": "hH4Uh2GjwuRP"
      },
      "source": [
        "scaler.inverse_transform(yhat)"
      ],
      "execution_count": null,
      "outputs": []
    },
    {
      "cell_type": "code",
      "metadata": {
        "id": "m5WvIdknq-mx"
      },
      "source": [
        "for i in range(100):\r\n",
        "   print(load_original_y[i],yhat[i])"
      ],
      "execution_count": null,
      "outputs": []
    },
    {
      "cell_type": "code",
      "metadata": {
        "id": "adR5CqWpw3fw"
      },
      "source": [
        "load_original_X[2200:]"
      ],
      "execution_count": null,
      "outputs": []
    },
    {
      "cell_type": "markdown",
      "metadata": {
        "id": "aN6SpawIMttn"
      },
      "source": [
        "# **Architecture** *old regression model* "
      ]
    },
    {
      "cell_type": "code",
      "metadata": {
        "id": "3Mj5G_0_NCGe"
      },
      "source": [
        "from sklearn.model_selection import train_test_split\r\n",
        "train_set_X, test_set_X, train_set_y, test_set_y  = train_test_split(load_original_X, load_original_y, test_size = 0.15, shuffle = False)"
      ],
      "execution_count": 76,
      "outputs": []
    },
    {
      "cell_type": "code",
      "metadata": {
        "colab": {
          "base_uri": "https://localhost:8080/"
        },
        "id": "kKp-Z2BWhXBW",
        "outputId": "476d89bf-1cb8-4139-9a27-59c0564426b9"
      },
      "source": [
        "#for i in range(100):\r\n",
        "#  print(train_set_y[i], load_original_y[i])\r\n",
        "np.shape(train_set_X)"
      ],
      "execution_count": 91,
      "outputs": [
        {
          "output_type": "execute_result",
          "data": {
            "text/plain": [
              "(2215, 60, 4)"
            ]
          },
          "metadata": {
            "tags": []
          },
          "execution_count": 91
        }
      ]
    },
    {
      "cell_type": "code",
      "metadata": {
        "id": "0ZY35GKgkQfC"
      },
      "source": [
        "n_steps= np.shape(load_original_X)[1]\r\n",
        "n_features= np.shape(load_original_X)[2]\r\n",
        "# define model\r\n",
        "model = Sequential()\r\n",
        "model.add(Conv1D(filters=64, kernel_size=4, activation='relu', input_shape=(n_steps, n_features)))\r\n",
        "model.add(MaxPooling1D(pool_size=4))\r\n",
        "model.add(Flatten())\r\n",
        "model.add(Dense(30, activation='relu'))\r\n",
        "model.add(Dense(3), activation = 'softmax')\r\n",
        "model.compile(optimizer='adam', loss='categorical_crossentropy')"
      ],
      "execution_count": 85,
      "outputs": []
    },
    {
      "cell_type": "code",
      "metadata": {
        "id": "REub6rCDmc1g"
      },
      "source": [
        ""
      ],
      "execution_count": null,
      "outputs": []
    }
  ]
}