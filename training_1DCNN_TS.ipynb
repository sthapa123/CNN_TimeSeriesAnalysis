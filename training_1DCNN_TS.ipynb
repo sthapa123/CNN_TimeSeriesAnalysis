{
  "nbformat": 4,
  "nbformat_minor": 0,
  "metadata": {
    "colab": {
      "name": "training_1DCNN_TS.ipynb",
      "provenance": [],
      "toc_visible": true,
      "authorship_tag": "ABX9TyPXG5aSASp9UHOcyRoRCB4m",
      "include_colab_link": true
    },
    "kernelspec": {
      "name": "python3",
      "display_name": "Python 3"
    },
    "accelerator": "GPU"
  },
  "cells": [
    {
      "cell_type": "markdown",
      "metadata": {
        "id": "view-in-github",
        "colab_type": "text"
      },
      "source": [
        "<a href=\"https://colab.research.google.com/github/tanmaymaloo/CNN_TimeSeriesAnalysis/blob/main/training_1DCNN_TS.ipynb\" target=\"_parent\"><img src=\"https://colab.research.google.com/assets/colab-badge.svg\" alt=\"Open In Colab\"/></a>"
      ]
    },
    {
      "cell_type": "code",
      "metadata": {
        "id": "vE6QnXi0YDBA"
      },
      "source": [
        "import pandas as pd\n",
        "import numpy as np\n",
        "import xlrd\n",
        "from datetime import datetime,timedelta"
      ],
      "execution_count": 28,
      "outputs": []
    },
    {
      "cell_type": "code",
      "metadata": {
        "id": "VmFEt-ltZMeb"
      },
      "source": [
        "X_np_shape=(2606, 60, 4)"
      ],
      "execution_count": 29,
      "outputs": []
    },
    {
      "cell_type": "code",
      "metadata": {
        "id": "Yq1i8W9rWia8"
      },
      "source": [
        "# retrieving data from file. \n",
        "loaded_X = np.loadtxt(\"X.txt\") \n",
        "x_np=(2606, 60, 4)\n",
        "# This loadedArr is a 2D array, therefore \n",
        "# we need to convert it to the original \n",
        "# array shape.reshaping to get original \n",
        "# matrice with original shape. \n",
        "load_original_X = loaded_X.reshape(loaded_X.shape[0], loaded_X.shape[1] // X_np_shape[2], X_np_shape[2]) "
      ],
      "execution_count": 30,
      "outputs": []
    },
    {
      "cell_type": "code",
      "metadata": {
        "id": "E0tjRdY4Wkd3",
        "colab": {
          "base_uri": "https://localhost:8080/"
        },
        "outputId": "d46e8bf6-1f2e-4f8e-f8ad-9ed0d5d72d01"
      },
      "source": [
        "np.shape(load_original_X)"
      ],
      "execution_count": 31,
      "outputs": [
        {
          "output_type": "execute_result",
          "data": {
            "text/plain": [
              "(2606, 60, 4)"
            ]
          },
          "metadata": {
            "tags": []
          },
          "execution_count": 31
        }
      ]
    },
    {
      "cell_type": "code",
      "metadata": {
        "id": "8shDUEe-Wmfo"
      },
      "source": [
        "load_original_X[:2]"
      ],
      "execution_count": null,
      "outputs": []
    },
    {
      "cell_type": "code",
      "metadata": {
        "id": "qf6pbTscWmaj",
        "colab": {
          "base_uri": "https://localhost:8080/"
        },
        "outputId": "ac4b374d-51d4-4aa2-cd53-c3cc207a569b"
      },
      "source": [
        "load_original_y = np.loadtxt(\"y.txt\") \n",
        "load_original_y=load_original_y.reshape(load_original_y.shape[0],1)\n",
        "np.shape(load_original_y)"
      ],
      "execution_count": 35,
      "outputs": [
        {
          "output_type": "execute_result",
          "data": {
            "text/plain": [
              "(2606, 1)"
            ]
          },
          "metadata": {
            "tags": []
          },
          "execution_count": 35
        }
      ]
    },
    {
      "cell_type": "code",
      "metadata": {
        "id": "Tbk56tu8WmVc"
      },
      "source": [
        "for i in range(2):\n",
        "  print(load_original_X[i], load_original_y[i])"
      ],
      "execution_count": null,
      "outputs": []
    },
    {
      "cell_type": "code",
      "metadata": {
        "id": "6pKHn8eRjWCH"
      },
      "source": [
        "from numpy import array\n",
        "from numpy import hstack\n",
        "from keras.models import Sequential\n",
        "from keras.layers import Dense\n",
        "from keras.layers import Flatten\n",
        "from keras.layers.convolutional import Conv1D\n",
        "from keras.layers.convolutional import MaxPooling1D\n",
        "from sklearn.preprocessing import MinMaxScaler"
      ],
      "execution_count": 37,
      "outputs": []
    },
    {
      "cell_type": "code",
      "metadata": {
        "id": "iQx_rrHoE-Pv",
        "colab": {
          "base_uri": "https://localhost:8080/"
        },
        "outputId": "136ec13f-ff2c-4655-a558-e3cb8296b948"
      },
      "source": [
        "scaler = MinMaxScaler()\n",
        "scaler.fit(load_original_y)"
      ],
      "execution_count": 38,
      "outputs": [
        {
          "output_type": "execute_result",
          "data": {
            "text/plain": [
              "MinMaxScaler(copy=True, feature_range=(0, 1))"
            ]
          },
          "metadata": {
            "tags": []
          },
          "execution_count": 38
        }
      ]
    },
    {
      "cell_type": "markdown",
      "metadata": {
        "id": "SZf6guvayI2Y"
      },
      "source": [
        "CETEGORICAL CLASSIFICATION"
      ]
    },
    {
      "cell_type": "code",
      "metadata": {
        "id": "aUi8NeFOOJr8"
      },
      "source": [
        "for i in load_original_y:\r\n",
        "  print(i)"
      ],
      "execution_count": null,
      "outputs": []
    },
    {
      "cell_type": "code",
      "metadata": {
        "colab": {
          "base_uri": "https://localhost:8080/"
        },
        "id": "_I7JCHNmMW5H",
        "outputId": "9932b0e5-3a3f-4f52-8ff2-88d0a2b0c8de"
      },
      "source": [
        "total = 0\r\n",
        "count=0\r\n",
        "max = load_original_y[0]\r\n",
        "min = load_original_y[0]\r\n",
        "for i in load_original_y:\r\n",
        "  if i<min and i>60:\r\n",
        "    min =i\r\n",
        "  elif i> max:\r\n",
        "    max = i\r\n",
        "  if i > 0.60:\r\n",
        "    total = total+i\r\n",
        "  else:\r\n",
        "    count=count+1\r\n",
        "\r\n",
        "\r\n",
        "n= len(load_original_y)\r\n",
        "mean = total/(n-count)\r\n",
        "print(\"mean : \", total/(n-count))\r\n",
        "print(\"max: \", max)\r\n",
        "print(\"min: \", min)"
      ],
      "execution_count": 44,
      "outputs": [
        {
          "output_type": "stream",
          "text": [
            "mean :  [82.67793553]\n",
            "max:  [89.4]\n",
            "min:  [62.]\n"
          ],
          "name": "stdout"
        }
      ]
    },
    {
      "cell_type": "code",
      "metadata": {
        "id": "Ah5XaxoyUYRr"
      },
      "source": [
        "AA = load_original_y.reshape(load_original_y.shape[0])"
      ],
      "execution_count": 40,
      "outputs": []
    },
    {
      "cell_type": "code",
      "metadata": {
        "colab": {
          "base_uri": "https://localhost:8080/"
        },
        "id": "f7mJBcmoTRJ6",
        "outputId": "3f68aa79-d8ec-4862-e345-410347e9905c"
      },
      "source": [
        "import statistics\r\n",
        "statistics.variance(AA)"
      ],
      "execution_count": 41,
      "outputs": [
        {
          "output_type": "execute_result",
          "data": {
            "text/plain": [
              "8.986127175880847"
            ]
          },
          "metadata": {
            "tags": []
          },
          "execution_count": 41
        }
      ]
    },
    {
      "cell_type": "code",
      "metadata": {
        "colab": {
          "base_uri": "https://localhost:8080/"
        },
        "id": "EFfbqJ0HaHWz",
        "outputId": "2237e2c2-605f-4605-c27e-d2164c09f012"
      },
      "source": [
        "np.zeros(load)"
      ],
      "execution_count": 50,
      "outputs": [
        {
          "output_type": "execute_result",
          "data": {
            "text/plain": [
              "0"
            ]
          },
          "metadata": {
            "tags": []
          },
          "execution_count": 50
        }
      ]
    },
    {
      "cell_type": "code",
      "metadata": {
        "id": "_ZRkxa_aZgJ9"
      },
      "source": [
        "cat = []\r\n",
        "cat[0] = 'nan'\r\n",
        "for i in range(1, len(load_original_y)):\r\n",
        "  d = load_original_y[i] - load_original_y[i-1]\r\n",
        "  if  d < 0.5 and d > 0.5:\r\n"
      ],
      "execution_count": null,
      "outputs": []
    },
    {
      "cell_type": "code",
      "metadata": {
        "id": "tpNCEB2QPQgE"
      },
      "source": [
        "for i in load_original_y:\r\n",
        "  if i "
      ],
      "execution_count": null,
      "outputs": []
    },
    {
      "cell_type": "code",
      "metadata": {
        "id": "4_eQwlHBLtZX"
      },
      "source": [
        "load_original_y_t=scaler.transform(load_original_y)"
      ],
      "execution_count": null,
      "outputs": []
    },
    {
      "cell_type": "code",
      "metadata": {
        "id": "GxCn2tH9jRlk"
      },
      "source": [
        "'''\n",
        "n_steps= np.shape(load_original_X)[1]\n",
        "n_features= np.shape(load_original_X)[2]\n",
        "# define model\n",
        "model = Sequential()\n",
        "model.add(Conv1D(filters=64, kernel_size=4, activation='relu', input_shape=(n_steps, n_features)))\n",
        "model.add(Conv1D(filters=128,kernel_size=4, activation='relu'))\n",
        "model.add(MaxPooling1D(pool_size=4))\n",
        "model.add(Flatten())\n",
        "model.add(Dense(50, activation='relu'))\n",
        "model.add(Dense(30, activation='relu'))\n",
        "model.add(Dense(1))\n",
        "model.compile(optimizer='adam', loss='mse')\n",
        "'''"
      ],
      "execution_count": null,
      "outputs": []
    },
    {
      "cell_type": "code",
      "metadata": {
        "id": "nDc9MRvVDChl"
      },
      "source": [
        "n_steps= np.shape(load_original_X)[1]\r\n",
        "n_features= np.shape(load_original_X)[2]\r\n",
        "# define model\r\n",
        "model = Sequential()\r\n",
        "model.add(Conv1D(filters=64, kernel_size=4, activation='relu', input_shape=(n_steps, n_features)))\r\n",
        "model.add(MaxPooling1D(pool_size=4))\r\n",
        "model.add(Flatten())\r\n",
        "model.add(Dense(30, activation='relu'))\r\n",
        "model.add(Dense(1))\r\n",
        "model.compile(optimizer='adam', loss='mse')"
      ],
      "execution_count": null,
      "outputs": []
    },
    {
      "cell_type": "code",
      "metadata": {
        "id": "r3ZTBNWNjYJY"
      },
      "source": [
        "np.shape(load_original_X[:2200])"
      ],
      "execution_count": null,
      "outputs": []
    },
    {
      "cell_type": "code",
      "metadata": {
        "id": "UBj5Z1YhE3Xu"
      },
      "source": [
        ""
      ],
      "execution_count": null,
      "outputs": []
    },
    {
      "cell_type": "code",
      "metadata": {
        "id": "fopNiatejZkh"
      },
      "source": [
        "model.fit(array(load_original_X[:2200]).astype('float32'), array(load_original_y_t[:2200]).astype('float32'), epochs=1800, verbose=1)"
      ],
      "execution_count": null,
      "outputs": []
    },
    {
      "cell_type": "code",
      "metadata": {
        "id": "XEtp-LMmux85"
      },
      "source": [
        "x_input = load_original_X[2].reshape((1, n_steps, n_features))\n",
        "yhat = model.predict(x_input, verbose=0)"
      ],
      "execution_count": null,
      "outputs": []
    },
    {
      "cell_type": "code",
      "metadata": {
        "id": "K87wsOezo8YL"
      },
      "source": [
        "yhat = model.predict(load_original_X[2200:],verbose=0)"
      ],
      "execution_count": null,
      "outputs": []
    },
    {
      "cell_type": "code",
      "metadata": {
        "id": "hH4Uh2GjwuRP"
      },
      "source": [
        "scaler.inverse_transform(yhat)"
      ],
      "execution_count": null,
      "outputs": []
    },
    {
      "cell_type": "code",
      "metadata": {
        "id": "m5WvIdknq-mx"
      },
      "source": [
        "load_original_y[2200:]"
      ],
      "execution_count": null,
      "outputs": []
    },
    {
      "cell_type": "code",
      "metadata": {
        "id": "adR5CqWpw3fw"
      },
      "source": [
        "load_original_X[2200:]"
      ],
      "execution_count": null,
      "outputs": []
    },
    {
      "cell_type": "code",
      "metadata": {
        "id": "BHo9s_I5E8pr"
      },
      "source": [
        ""
      ],
      "execution_count": null,
      "outputs": []
    }
  ]
}