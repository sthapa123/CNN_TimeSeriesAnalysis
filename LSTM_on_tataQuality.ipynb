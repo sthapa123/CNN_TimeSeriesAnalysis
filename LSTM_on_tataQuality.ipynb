{
  "nbformat": 4,
  "nbformat_minor": 0,
  "metadata": {
    "colab": {
      "name": "LSTM_on_tataQuality.ipynb",
      "provenance": [],
      "collapsed_sections": [],
      "authorship_tag": "ABX9TyOYgQLYERhhhx3bUryw9ePp",
      "include_colab_link": true
    },
    "kernelspec": {
      "name": "python3",
      "display_name": "Python 3"
    },
    "accelerator": "GPU"
  },
  "cells": [
    {
      "cell_type": "markdown",
      "metadata": {
        "id": "view-in-github",
        "colab_type": "text"
      },
      "source": [
        "<a href=\"https://colab.research.google.com/github/tanmaymaloo/CNN_TimeSeriesAnalysis/blob/main/LSTM_on_tataQuality.ipynb\" target=\"_parent\"><img src=\"https://colab.research.google.com/assets/colab-badge.svg\" alt=\"Open In Colab\"/></a>"
      ]
    },
    {
      "cell_type": "code",
      "metadata": {
        "id": "rTWB8Le8sIZZ"
      },
      "source": [
        "# Importing the libraries\r\n",
        "\r\n",
        "import numpy as np\r\n",
        "import matplotlib.pyplot as plt\r\n",
        "import pandas as pd\r\n",
        "try:\r\n",
        "  # %tensorflow_version only exists in Colab.\r\n",
        "  %tensorflow_version 2.x\r\n",
        "except Exception:\r\n",
        "  pass"
      ],
      "execution_count": 2,
      "outputs": []
    },
    {
      "cell_type": "code",
      "metadata": {
        "colab": {
          "base_uri": "https://localhost:8080/"
        },
        "id": "HWMcLD3rE1dR",
        "outputId": "11790c4a-eb5f-4c7d-ebbe-6a6792ef55a2"
      },
      "source": [
        "from google.colab import drive\r\n",
        "drive.mount('/content/gdrive')"
      ],
      "execution_count": 7,
      "outputs": [
        {
          "output_type": "stream",
          "text": [
            "Drive already mounted at /content/gdrive; to attempt to forcibly remount, call drive.mount(\"/content/gdrive\", force_remount=True).\n"
          ],
          "name": "stdout"
        }
      ]
    },
    {
      "cell_type": "code",
      "metadata": {
        "colab": {
          "base_uri": "https://localhost:8080/"
        },
        "id": "-zLyTQIvE4G5",
        "outputId": "b38a3dda-94cd-45bb-a878-2160836577e5"
      },
      "source": [
        "cd gdrive/MyDrive/BTP/"
      ],
      "execution_count": 8,
      "outputs": [
        {
          "output_type": "stream",
          "text": [
            "[Errno 2] No such file or directory: 'gdrive/MyDrive/BTP/'\n",
            "/content/gdrive/MyDrive/BTP\n"
          ],
          "name": "stdout"
        }
      ]
    },
    {
      "cell_type": "code",
      "metadata": {
        "colab": {
          "base_uri": "https://localhost:8080/"
        },
        "id": "VfrPUcEdE7Cs",
        "outputId": "b579b43f-9d0b-4679-cb5e-a272c7a9fc51"
      },
      "source": [
        "ls\r\n"
      ],
      "execution_count": 9,
      "outputs": [
        {
          "output_type": "stream",
          "text": [
            "BTP_2020.gslides  X.txt  y.txt\n"
          ],
          "name": "stdout"
        }
      ]
    },
    {
      "cell_type": "code",
      "metadata": {
        "colab": {
          "base_uri": "https://localhost:8080/"
        },
        "id": "ZKUwrluOFKFt",
        "outputId": "41410f5d-2459-48d3-9d9a-20dd6babed6d"
      },
      "source": [
        "load_original_y = np.loadtxt(\"y.txt\") \r\n",
        "load_original_y=load_original_y.reshape(load_original_y.shape[0],1)\r\n",
        "np.shape(load_original_y)"
      ],
      "execution_count": 53,
      "outputs": [
        {
          "output_type": "execute_result",
          "data": {
            "text/plain": [
              "(2606, 1)"
            ]
          },
          "metadata": {
            "tags": []
          },
          "execution_count": 53
        }
      ]
    },
    {
      "cell_type": "code",
      "metadata": {
        "id": "64ELK5GFEp4w"
      },
      "source": [
        "from sklearn.preprocessing import MinMaxScaler\r\n",
        "sc = MinMaxScaler(feature_range = (0, 1))\r\n",
        "train_scaled_y = sc.fit_transform(load_original_y[:2400])"
      ],
      "execution_count": 54,
      "outputs": []
    },
    {
      "cell_type": "code",
      "metadata": {
        "colab": {
          "base_uri": "https://localhost:8080/"
        },
        "id": "W_99FGpcFJSi",
        "outputId": "c24cfa71-44f5-436e-afaa-013c2d4d44f3"
      },
      "source": [
        "for i in range(10):\r\n",
        "  print(train_scaled_y[i],load_original_y[i])"
      ],
      "execution_count": 55,
      "outputs": [
        {
          "output_type": "stream",
          "text": [
            "[0.84263959] [83.2]\n",
            "[0.83756345] [83.]\n",
            "[0.83248731] [82.8]\n",
            "[0.77411168] [80.5]\n",
            "[0.80456853] [81.7]\n",
            "[0.82233503] [82.4]\n",
            "[0.78680203] [81.]\n",
            "[0.78172589] [80.8]\n",
            "[0.79949239] [81.5]\n",
            "[0.81725888] [82.2]\n"
          ],
          "name": "stdout"
        }
      ]
    },
    {
      "cell_type": "code",
      "metadata": {
        "id": "TjYop8IDFXTu"
      },
      "source": [
        "X_train = []\r\n",
        "y_train = []\r\n",
        "for i in range(60, np.size(train_scaled_y)):\r\n",
        "    X_train.append(train_scaled_y[i-60:i, 0])\r\n",
        "    y_train.append(train_scaled_y[i, 0])\r\n",
        "X_train, y_train = np.array(X_train), np.array(y_train)"
      ],
      "execution_count": 56,
      "outputs": []
    },
    {
      "cell_type": "code",
      "metadata": {
        "colab": {
          "base_uri": "https://localhost:8080/"
        },
        "id": "nePk-7WAIMIX",
        "outputId": "96d46740-006a-4187-dc36-58b36ce4417f"
      },
      "source": [
        "np.shape(X_train)"
      ],
      "execution_count": 57,
      "outputs": [
        {
          "output_type": "execute_result",
          "data": {
            "text/plain": [
              "(2340, 60)"
            ]
          },
          "metadata": {
            "tags": []
          },
          "execution_count": 57
        }
      ]
    },
    {
      "cell_type": "code",
      "metadata": {
        "id": "UJCHEp9oJmac"
      },
      "source": [
        "# Reshaping\r\n",
        "X_train = np.reshape(X_train, (X_train.shape[0], X_train.shape[1], 1))"
      ],
      "execution_count": 58,
      "outputs": []
    },
    {
      "cell_type": "code",
      "metadata": {
        "id": "3Dn13QHPJxLd"
      },
      "source": [
        "from keras.models import Sequential\r\n",
        "from keras.layers import Dense\r\n",
        "from keras.layers import LSTM\r\n",
        "from keras.layers import Dropout"
      ],
      "execution_count": 59,
      "outputs": []
    },
    {
      "cell_type": "code",
      "metadata": {
        "id": "an7jrLjEJ1ZT"
      },
      "source": [
        "# Initialising the RNN\r\n",
        "try:\r\n",
        "  # %tensorflow_version only exists in Colab.\r\n",
        "  %tensorflow_version 2.x\r\n",
        "except Exception:\r\n",
        "  pass\r\n",
        "regressor = Sequential()"
      ],
      "execution_count": 60,
      "outputs": []
    },
    {
      "cell_type": "code",
      "metadata": {
        "colab": {
          "base_uri": "https://localhost:8080/"
        },
        "id": "itYPsjCmJ5tn",
        "outputId": "844d4294-1dee-4fa7-e03a-812386a24cce"
      },
      "source": [
        "# Adding the first LSTM layer and some Dropout regularisation\r\n",
        "regressor.add(LSTM(units = 50, return_sequences = True, input_shape = (X_train.shape[1], 1)))\r\n",
        "regressor.add(Dropout(0.2))\r\n",
        "\r\n",
        "# Adding a second LSTM layer and some Dropout regularisation\r\n",
        "regressor.add(LSTM(units = 50, return_sequences = True))\r\n",
        "regressor.add(Dropout(0.2))\r\n",
        "\r\n",
        "# Adding a third LSTM layer and some Dropout regularisation\r\n",
        "regressor.add(LSTM(units = 50, return_sequences = True))\r\n",
        "regressor.add(Dropout(0.2))\r\n",
        "\r\n",
        "# Adding a fourth LSTM layer and some Dropout regularisation\r\n",
        "regressor.add(LSTM(units = 50))\r\n",
        "regressor.add(Dropout(0.2))\r\n",
        "\r\n",
        "# Adding the output layer\r\n",
        "regressor.add(Dense(units = 1))\r\n",
        "\r\n",
        "# Compiling the RNN\r\n",
        "regressor.compile(optimizer = 'adam', loss = 'mean_squared_error')\r\n",
        "\r\n",
        "# Fitting the RNN to the Training set\r\n",
        "regressor.fit(X_train, y_train, epochs = 100, batch_size = 32)"
      ],
      "execution_count": 61,
      "outputs": [
        {
          "output_type": "stream",
          "text": [
            "Epoch 1/100\n",
            "74/74 [==============================] - 5s 14ms/step - loss: 0.1547\n",
            "Epoch 2/100\n",
            "74/74 [==============================] - 1s 14ms/step - loss: 0.0126\n",
            "Epoch 3/100\n",
            "74/74 [==============================] - 1s 13ms/step - loss: 0.0114\n",
            "Epoch 4/100\n",
            "74/74 [==============================] - 1s 13ms/step - loss: 0.0103\n",
            "Epoch 5/100\n",
            "74/74 [==============================] - 1s 14ms/step - loss: 0.0115\n",
            "Epoch 6/100\n",
            "74/74 [==============================] - 1s 13ms/step - loss: 0.0105\n",
            "Epoch 7/100\n",
            "74/74 [==============================] - 1s 13ms/step - loss: 0.0092\n",
            "Epoch 8/100\n",
            "74/74 [==============================] - 1s 13ms/step - loss: 0.0101\n",
            "Epoch 9/100\n",
            "74/74 [==============================] - 1s 13ms/step - loss: 0.0085\n",
            "Epoch 10/100\n",
            "74/74 [==============================] - 1s 13ms/step - loss: 0.0086\n",
            "Epoch 11/100\n",
            "74/74 [==============================] - 1s 13ms/step - loss: 0.0086\n",
            "Epoch 12/100\n",
            "74/74 [==============================] - 1s 13ms/step - loss: 0.0087\n",
            "Epoch 13/100\n",
            "74/74 [==============================] - 1s 13ms/step - loss: 0.0098\n",
            "Epoch 14/100\n",
            "74/74 [==============================] - 1s 13ms/step - loss: 0.0086\n",
            "Epoch 15/100\n",
            "74/74 [==============================] - 1s 13ms/step - loss: 0.0083\n",
            "Epoch 16/100\n",
            "74/74 [==============================] - 1s 13ms/step - loss: 0.0089\n",
            "Epoch 17/100\n",
            "74/74 [==============================] - 1s 13ms/step - loss: 0.0077\n",
            "Epoch 18/100\n",
            "74/74 [==============================] - 1s 13ms/step - loss: 0.0082\n",
            "Epoch 19/100\n",
            "74/74 [==============================] - 1s 13ms/step - loss: 0.0081\n",
            "Epoch 20/100\n",
            "74/74 [==============================] - 1s 13ms/step - loss: 0.0078\n",
            "Epoch 21/100\n",
            "74/74 [==============================] - 1s 13ms/step - loss: 0.0081\n",
            "Epoch 22/100\n",
            "74/74 [==============================] - 1s 13ms/step - loss: 0.0075\n",
            "Epoch 23/100\n",
            "74/74 [==============================] - 1s 13ms/step - loss: 0.0071\n",
            "Epoch 24/100\n",
            "74/74 [==============================] - 1s 13ms/step - loss: 0.0087\n",
            "Epoch 25/100\n",
            "74/74 [==============================] - 1s 13ms/step - loss: 0.0075\n",
            "Epoch 26/100\n",
            "74/74 [==============================] - 1s 13ms/step - loss: 0.0080\n",
            "Epoch 27/100\n",
            "74/74 [==============================] - 1s 13ms/step - loss: 0.0070\n",
            "Epoch 28/100\n",
            "74/74 [==============================] - 1s 13ms/step - loss: 0.0069\n",
            "Epoch 29/100\n",
            "74/74 [==============================] - 1s 13ms/step - loss: 0.0074\n",
            "Epoch 30/100\n",
            "74/74 [==============================] - 1s 13ms/step - loss: 0.0063\n",
            "Epoch 31/100\n",
            "74/74 [==============================] - 1s 13ms/step - loss: 0.0076\n",
            "Epoch 32/100\n",
            "74/74 [==============================] - 1s 13ms/step - loss: 0.0061\n",
            "Epoch 33/100\n",
            "74/74 [==============================] - 1s 13ms/step - loss: 0.0064\n",
            "Epoch 34/100\n",
            "74/74 [==============================] - 1s 14ms/step - loss: 0.0057\n",
            "Epoch 35/100\n",
            "74/74 [==============================] - 1s 13ms/step - loss: 0.0055\n",
            "Epoch 36/100\n",
            "74/74 [==============================] - 1s 13ms/step - loss: 0.0056\n",
            "Epoch 37/100\n",
            "74/74 [==============================] - 1s 13ms/step - loss: 0.0057\n",
            "Epoch 38/100\n",
            "74/74 [==============================] - 1s 13ms/step - loss: 0.0054\n",
            "Epoch 39/100\n",
            "74/74 [==============================] - 1s 13ms/step - loss: 0.0059\n",
            "Epoch 40/100\n",
            "74/74 [==============================] - 1s 13ms/step - loss: 0.0047\n",
            "Epoch 41/100\n",
            "74/74 [==============================] - 1s 13ms/step - loss: 0.0048\n",
            "Epoch 42/100\n",
            "74/74 [==============================] - 1s 13ms/step - loss: 0.0046\n",
            "Epoch 43/100\n",
            "74/74 [==============================] - 1s 13ms/step - loss: 0.0047\n",
            "Epoch 44/100\n",
            "74/74 [==============================] - 1s 13ms/step - loss: 0.0046\n",
            "Epoch 45/100\n",
            "74/74 [==============================] - 1s 13ms/step - loss: 0.0040\n",
            "Epoch 46/100\n",
            "74/74 [==============================] - 1s 13ms/step - loss: 0.0039\n",
            "Epoch 47/100\n",
            "74/74 [==============================] - 1s 13ms/step - loss: 0.0037\n",
            "Epoch 48/100\n",
            "74/74 [==============================] - 1s 13ms/step - loss: 0.0040\n",
            "Epoch 49/100\n",
            "74/74 [==============================] - 1s 13ms/step - loss: 0.0036\n",
            "Epoch 50/100\n",
            "74/74 [==============================] - 1s 13ms/step - loss: 0.0038\n",
            "Epoch 51/100\n",
            "74/74 [==============================] - 1s 14ms/step - loss: 0.0031\n",
            "Epoch 52/100\n",
            "74/74 [==============================] - 1s 14ms/step - loss: 0.0046\n",
            "Epoch 53/100\n",
            "74/74 [==============================] - 1s 15ms/step - loss: 0.0031\n",
            "Epoch 54/100\n",
            "74/74 [==============================] - 1s 14ms/step - loss: 0.0030\n",
            "Epoch 55/100\n",
            "74/74 [==============================] - 1s 14ms/step - loss: 0.0029\n",
            "Epoch 56/100\n",
            "74/74 [==============================] - 1s 14ms/step - loss: 0.0029\n",
            "Epoch 57/100\n",
            "74/74 [==============================] - 1s 14ms/step - loss: 0.0032\n",
            "Epoch 58/100\n",
            "74/74 [==============================] - 1s 13ms/step - loss: 0.0028\n",
            "Epoch 59/100\n",
            "74/74 [==============================] - 1s 13ms/step - loss: 0.0032\n",
            "Epoch 60/100\n",
            "74/74 [==============================] - 1s 13ms/step - loss: 0.0029\n",
            "Epoch 61/100\n",
            "74/74 [==============================] - 1s 13ms/step - loss: 0.0026\n",
            "Epoch 62/100\n",
            "74/74 [==============================] - 1s 13ms/step - loss: 0.0026\n",
            "Epoch 63/100\n",
            "74/74 [==============================] - 1s 13ms/step - loss: 0.0028\n",
            "Epoch 64/100\n",
            "74/74 [==============================] - 1s 13ms/step - loss: 0.0026\n",
            "Epoch 65/100\n",
            "74/74 [==============================] - 1s 13ms/step - loss: 0.0027\n",
            "Epoch 66/100\n",
            "74/74 [==============================] - 1s 13ms/step - loss: 0.0025\n",
            "Epoch 67/100\n",
            "74/74 [==============================] - 1s 13ms/step - loss: 0.0024\n",
            "Epoch 68/100\n",
            "74/74 [==============================] - 1s 14ms/step - loss: 0.0026\n",
            "Epoch 69/100\n",
            "74/74 [==============================] - 1s 13ms/step - loss: 0.0022\n",
            "Epoch 70/100\n",
            "74/74 [==============================] - 1s 14ms/step - loss: 0.0023\n",
            "Epoch 71/100\n",
            "74/74 [==============================] - 1s 13ms/step - loss: 0.0022\n",
            "Epoch 72/100\n",
            "74/74 [==============================] - 1s 13ms/step - loss: 0.0027\n",
            "Epoch 73/100\n",
            "74/74 [==============================] - 1s 14ms/step - loss: 0.0023\n",
            "Epoch 74/100\n",
            "74/74 [==============================] - 1s 13ms/step - loss: 0.0022\n",
            "Epoch 75/100\n",
            "74/74 [==============================] - 1s 14ms/step - loss: 0.0024\n",
            "Epoch 76/100\n",
            "74/74 [==============================] - 1s 14ms/step - loss: 0.0026\n",
            "Epoch 77/100\n",
            "74/74 [==============================] - 1s 14ms/step - loss: 0.0020\n",
            "Epoch 78/100\n",
            "74/74 [==============================] - 1s 14ms/step - loss: 0.0021\n",
            "Epoch 79/100\n",
            "74/74 [==============================] - 1s 14ms/step - loss: 0.0021\n",
            "Epoch 80/100\n",
            "74/74 [==============================] - 1s 13ms/step - loss: 0.0019\n",
            "Epoch 81/100\n",
            "74/74 [==============================] - 1s 14ms/step - loss: 0.0020\n",
            "Epoch 82/100\n",
            "74/74 [==============================] - 1s 13ms/step - loss: 0.0019\n",
            "Epoch 83/100\n",
            "74/74 [==============================] - 1s 13ms/step - loss: 0.0023\n",
            "Epoch 84/100\n",
            "74/74 [==============================] - 1s 13ms/step - loss: 0.0018\n",
            "Epoch 85/100\n",
            "74/74 [==============================] - 1s 14ms/step - loss: 0.0020\n",
            "Epoch 86/100\n",
            "74/74 [==============================] - 1s 14ms/step - loss: 0.0022\n",
            "Epoch 87/100\n",
            "74/74 [==============================] - 1s 13ms/step - loss: 0.0017\n",
            "Epoch 88/100\n",
            "74/74 [==============================] - 1s 13ms/step - loss: 0.0016\n",
            "Epoch 89/100\n",
            "74/74 [==============================] - 1s 13ms/step - loss: 0.0021\n",
            "Epoch 90/100\n",
            "74/74 [==============================] - 1s 13ms/step - loss: 0.0018\n",
            "Epoch 91/100\n",
            "74/74 [==============================] - 1s 13ms/step - loss: 0.0018\n",
            "Epoch 92/100\n",
            "74/74 [==============================] - 1s 13ms/step - loss: 0.0016\n",
            "Epoch 93/100\n",
            "74/74 [==============================] - 1s 13ms/step - loss: 0.0016\n",
            "Epoch 94/100\n",
            "74/74 [==============================] - 1s 13ms/step - loss: 0.0016\n",
            "Epoch 95/100\n",
            "74/74 [==============================] - 1s 13ms/step - loss: 0.0016\n",
            "Epoch 96/100\n",
            "74/74 [==============================] - 1s 13ms/step - loss: 0.0019\n",
            "Epoch 97/100\n",
            "74/74 [==============================] - 1s 13ms/step - loss: 0.0015\n",
            "Epoch 98/100\n",
            "74/74 [==============================] - 1s 13ms/step - loss: 0.0017\n",
            "Epoch 99/100\n",
            "74/74 [==============================] - 1s 13ms/step - loss: 0.0017\n",
            "Epoch 100/100\n",
            "74/74 [==============================] - 1s 14ms/step - loss: 0.0020\n"
          ],
          "name": "stdout"
        },
        {
          "output_type": "execute_result",
          "data": {
            "text/plain": [
              "<tensorflow.python.keras.callbacks.History at 0x7fbdc181c940>"
            ]
          },
          "metadata": {
            "tags": []
          },
          "execution_count": 61
        }
      ]
    },
    {
      "cell_type": "code",
      "metadata": {
        "id": "AI32bNzlNGeQ"
      },
      "source": [
        "test_original_y = load_original_y[2400:]"
      ],
      "execution_count": 67,
      "outputs": []
    },
    {
      "cell_type": "code",
      "metadata": {
        "colab": {
          "base_uri": "https://localhost:8080/"
        },
        "id": "YSc_FjZaNOg2",
        "outputId": "82df808d-df29-4b51-9ced-03a39b9b0732"
      },
      "source": [
        "np.shape(test_original_y)"
      ],
      "execution_count": 68,
      "outputs": [
        {
          "output_type": "execute_result",
          "data": {
            "text/plain": [
              "(206, 1)"
            ]
          },
          "metadata": {
            "tags": []
          },
          "execution_count": 68
        }
      ]
    },
    {
      "cell_type": "code",
      "metadata": {
        "id": "4TQK_rokM1B2"
      },
      "source": [
        "inputs = load_original_y[len(load_original_y)-len(test_original_y)-60:]"
      ],
      "execution_count": 77,
      "outputs": []
    },
    {
      "cell_type": "code",
      "metadata": {
        "id": "0bPLyqADMxPT"
      },
      "source": [
        "inputs.reshape(-1,1)"
      ],
      "execution_count": null,
      "outputs": []
    },
    {
      "cell_type": "code",
      "metadata": {
        "id": "jxrY7IbbUQvo"
      },
      "source": [
        "inputs_scaled = sc.transform(inputs)"
      ],
      "execution_count": 81,
      "outputs": []
    },
    {
      "cell_type": "code",
      "metadata": {
        "colab": {
          "base_uri": "https://localhost:8080/"
        },
        "id": "SYzG742LVAcg",
        "outputId": "07158017-2fc3-46e4-bf95-692fb2fedf1b"
      },
      "source": [
        "for i in range(50):\r\n",
        "  print(inputs_scaled[i],inputs[i])"
      ],
      "execution_count": 82,
      "outputs": [
        {
          "output_type": "stream",
          "text": [
            "[0.85025381] [83.5]\n",
            "[0.79949239] [81.5]\n",
            "[0.83756345] [83.]\n",
            "[0.81218274] [82.]\n",
            "[0.84263959] [83.2]\n",
            "[0.86294416] [84.]\n",
            "[0.83756345] [83.]\n",
            "[0.85786802] [83.8]\n",
            "[0.91370558] [86.]\n",
            "[0.86294416] [84.]\n",
            "[0.90101523] [85.5]\n",
            "[0.80203046] [81.6]\n",
            "[0.73604061] [79.]\n",
            "[0.76142132] [80.]\n",
            "[0.78680203] [81.]\n",
            "[0.81725888] [82.2]\n",
            "[0.84517766] [83.3]\n",
            "[0.83502538] [82.9]\n",
            "[0.7715736] [80.4]\n",
            "[0.73604061] [79.]\n",
            "[0.71573604] [78.2]\n",
            "[0.73096447] [78.8]\n",
            "[0.76649746] [80.2]\n",
            "[0.8248731] [82.5]\n",
            "[0.87309645] [84.4]\n",
            "[0.9035533] [85.6]\n",
            "[0.90862944] [85.8]\n",
            "[0.83756345] [83.]\n",
            "[0.85025381] [83.5]\n",
            "[0.83756345] [83.]\n",
            "[0.85786802] [83.8]\n",
            "[0.87817259] [84.6]\n",
            "[0.88832487] [85.]\n",
            "[0.87563452] [84.5]\n",
            "[0.88071066] [84.7]\n",
            "[0.85786802] [83.8]\n",
            "[0.86294416] [84.]\n",
            "[0.83756345] [83.]\n",
            "[0.84771574] [83.4]\n",
            "[0.86294416] [84.]\n",
            "[0.85025381] [83.5]\n",
            "[0.84517766] [83.3]\n",
            "[0.82994924] [82.7]\n",
            "[0.79441624] [81.3]\n",
            "[0.81725888] [82.2]\n",
            "[0.85279188] [83.6]\n",
            "[0.79187817] [81.2]\n",
            "[0.86294416] [84.]\n",
            "[0.88324873] [84.8]\n",
            "[0.88832487] [85.]\n"
          ],
          "name": "stdout"
        }
      ]
    },
    {
      "cell_type": "code",
      "metadata": {
        "id": "2svMn2sTUSp3"
      },
      "source": [
        "inputs[0:100]"
      ],
      "execution_count": null,
      "outputs": []
    },
    {
      "cell_type": "code",
      "metadata": {
        "colab": {
          "base_uri": "https://localhost:8080/",
          "height": 295
        },
        "id": "9hbOfBUZNd3e",
        "outputId": "2407eb6d-09c0-4fbb-e64f-90d69e7d8a7e"
      },
      "source": [
        "X_test = []\r\n",
        "for i in range(60, len(inputs_scaled)):\r\n",
        "    X_test.append(inputs_scaled[i-60:i, 0])\r\n",
        "X_test = np.array(X_test)\r\n",
        "X_test = np.reshape(X_test, (X_test.shape[0], X_test.shape[1], 1))\r\n",
        "predicted_quality = regressor.predict(X_test)\r\n",
        "predicted_quality = sc.inverse_transform(predicted_quality)\r\n",
        "\r\n",
        "# Visualising the results\r\n",
        "plt.plot(inputs[60:], color = 'red', label = 'real quality')\r\n",
        "plt.plot(predicted_quality, color = 'blue', label = 'Predicted quality')\r\n",
        "plt.title('quality Prediction')\r\n",
        "plt.xlabel('Time')\r\n",
        "plt.ylabel('TATA quality')\r\n",
        "plt.legend()\r\n",
        "plt.show()"
      ],
      "execution_count": 158,
      "outputs": [
        {
          "output_type": "display_data",
          "data": {
            "image/png": "[encoded data removed]",
            "text/plain": [
              "<Figure size 432x288 with 1 Axes>"
            ]
          },
          "metadata": {
            "tags": [],
            "needs_background": "light"
          }
        }
      ]
    },
    {
      "cell_type": "code",
      "metadata": {
        "colab": {
          "base_uri": "https://localhost:8080/"
        },
        "id": "birK1Y7rLbIq",
        "outputId": "1f2190f9-ef86-463f-8bde-d43d2709e46e"
      },
      "source": [
        "for i in range(len(predicted_quality)):\r\n",
        "  print(predicted_quality[i], inputs[60+i])"
      ],
      "execution_count": 160,
      "outputs": [
        {
          "output_type": "stream",
          "text": [
            "[86.40768] [86.1]\n",
            "[86.06381] [86.3]\n",
            "[86.35286] [86.]\n",
            "[86.097244] [86.2]\n",
            "[86.331024] [84.8]\n",
            "[85.20631] [85.1]\n",
            "[85.579155] [84.8]\n",
            "[85.216286] [85.4]\n",
            "[85.709946] [85.1]\n",
            "[85.37844] [84.]\n",
            "[84.562126] [82.4]\n",
            "[83.288475] [85.]\n",
            "[85.34406] [83.7]\n",
            "[84.109474] [85.5]\n",
            "[85.66722] [81.]\n",
            "[81.99338] [82.8]\n",
            "[83.457794] [84.6]\n",
            "[84.70673] [84.]\n",
            "[84.279976] [84.8]\n",
            "[84.97733] [85.]\n",
            "[85.063156] [85.4]\n",
            "[85.435974] [84.6]\n",
            "[84.82734] [83.1]\n",
            "[83.73065] [83.6]\n",
            "[84.16038] [84.4]\n",
            "[84.69906] [84.]\n",
            "[84.359146] [85.]\n",
            "[85.1706] [86.]\n",
            "[85.838524] [84.5]\n",
            "[84.71118] [85.5]\n",
            "[85.68072] [82.5]\n",
            "[83.203804] [83.]\n",
            "[83.727264] [84.5]\n",
            "[84.77659] [82.2]\n",
            "[82.94707] [85.3]\n",
            "[85.432] [87.8]\n",
            "[86.89569] [87.5]\n",
            "[86.74942] [85.]\n",
            "[85.14515] [84.]\n",
            "[84.63442] [84.9]\n",
            "[85.345795] [85.5]\n",
            "[85.67776] [86.]\n",
            "[86.03278] [86.4]\n",
            "[86.312904] [86.8]\n",
            "[86.63293] [86.5]\n",
            "[86.43314] [86.8]\n",
            "[86.77404] [87.]\n",
            "[86.897766] [87.2]\n",
            "[87.088] [87.4]\n",
            "[87.25291] [86.2]\n",
            "[86.3608] [87.]\n",
            "[87.16131] [87.5]\n",
            "[87.32476] [88.]\n",
            "[87.73042] [84.8]\n",
            "[85.24269] [83.]\n",
            "[84.08129] [81.]\n",
            "[82.33334] [78.6]\n",
            "[80.16395] [78.]\n",
            "[79.38839] [80.]\n",
            "[80.98808] [78.]\n",
            "[79.65931] [79.]\n",
            "[80.11798] [80.2]\n",
            "[81.07787] [80.5]\n",
            "[81.36051] [78.2]\n",
            "[79.564705] [77.]\n",
            "[78.22455] [78.8]\n",
            "[79.467964] [80.2]\n",
            "[80.802376] [81.1]\n",
            "[81.59058] [81.9]\n",
            "[82.19295] [81.5]\n",
            "[81.89691] [81.]\n",
            "[81.490616] [81.7]\n",
            "[82.01751] [80.8]\n",
            "[81.364174] [80.]\n",
            "[80.69045] [78.]\n",
            "[79.017006] [79.5]\n",
            "[80.01725] [79.3]\n",
            "[80.1045] [79.]\n",
            "[79.8933] [79.5]\n",
            "[80.23518] [80.]\n",
            "[80.66896] [82.]\n",
            "[82.225914] [80.]\n",
            "[80.8166] [82.]\n",
            "[82.23577] [85.]\n",
            "[84.47519] [86.2]\n",
            "[85.380226] [82.5]\n",
            "[82.776024] [82.3]\n",
            "[82.772064] [80.5]\n",
            "[81.31262] [80.]\n",
            "[80.845505] [81.4]\n",
            "[81.94686] [82.7]\n",
            "[83.00636] [84.]\n",
            "[84.02] [85.]\n",
            "[84.78598] [85.5]\n",
            "[85.21864] [86.]\n",
            "[85.69326] [86.2]\n",
            "[85.923874] [85.5]\n",
            "[85.4958] [82.]\n",
            "[82.81348] [83.5]\n",
            "[84.13023] [85.]\n",
            "[85.10705] [86.8]\n",
            "[86.42583] [86.]\n",
            "[85.761086] [87.]\n",
            "[86.78816] [84.5]\n",
            "[84.76262] [80.]\n",
            "[81.250305] [80.5]\n",
            "[81.51771] [83.]\n",
            "[83.55866] [86.4]\n",
            "[85.996056] [87.3]\n",
            "[86.491295] [86.2]\n",
            "[85.894455] [85.5]\n",
            "[85.620834] [83.2]\n",
            "[83.87782] [83.8]\n",
            "[84.47993] [81.4]\n",
            "[82.424515] [82.9]\n",
            "[83.592575] [84.]\n",
            "[84.298256] [85.4]\n",
            "[85.350266] [86.]\n",
            "[85.74612] [86.2]\n",
            "[85.98109] [86.5]\n",
            "[86.29283] [84.2]\n",
            "[84.57151] [83.3]\n",
            "[84.04598] [85.]\n",
            "[85.346054] [85.8]\n",
            "[85.769585] [85.2]\n",
            "[85.34065] [86.]\n",
            "[86.0522] [83.5]\n",
            "[84.02676] [84.]\n",
            "[84.615265] [83.]\n",
            "[83.68473] [83.3]\n",
            "[83.95421] [82.]\n",
            "[82.832985] [84.]\n",
            "[84.39735] [83.2]\n",
            "[83.64688] [82.4]\n",
            "[83.07981] [79.]\n",
            "[80.2704] [77.4]\n",
            "[78.58066] [77.2]\n",
            "[78.32024] [74.4]\n",
            "[76.3117] [73.5]\n",
            "[75.1521] [75.5]\n",
            "[76.73766] [82.]\n",
            "[81.975876] [82.4]\n",
            "[82.629265] [82.8]\n",
            "[82.98235] [83.]\n",
            "[83.05782] [83.4]\n",
            "[83.3817] [82.5]\n",
            "[82.733025] [84.]\n",
            "[83.95036] [85.5]\n",
            "[85.03649] [86.]\n",
            "[85.48285] [86.5]\n",
            "[86.00613] [85.5]\n",
            "[85.350136] [84.]\n",
            "[84.38122] [84.8]\n",
            "[85.12664] [84.5]\n",
            "[84.790924] [85.4]\n",
            "[85.56078] [86.3]\n",
            "[86.14405] [86.8]\n",
            "[86.5296] [86.5]\n",
            "[86.3601] [85.7]\n",
            "[85.874466] [83.5]\n",
            "[84.21325] [84.]\n",
            "[84.717606] [84.4]\n",
            "[84.8756] [85.2]\n",
            "[85.45586] [85.6]\n",
            "[85.678185] [86.2]\n",
            "[86.1478] [86.4]\n",
            "[86.28698] [86.]\n",
            "[86.04945] [86.4]\n",
            "[86.4485] [86.]\n",
            "[86.100174] [88.]\n",
            "[87.69269] [88.6]\n",
            "[87.83205] [88.]\n",
            "[87.594795] [85.]\n",
            "[85.44706] [85.6]\n",
            "[86.26805] [80.]\n",
            "[81.50864] [76.]\n",
            "[77.53293] [72.]\n",
            "[73.62632] [74.5]\n",
            "[75.245255] [77.]\n",
            "[78.54638] [79.2]\n",
            "[80.75712] [78.]\n",
            "[79.98088] [83.4]\n",
            "[83.42983] [81.4]\n",
            "[81.94605] [79.4]\n",
            "[80.326294] [77.]\n",
            "[78.13402] [74.]\n",
            "[75.368034] [72.2]\n",
            "[73.43262] [74.]\n",
            "[74.77157] [76.1]\n",
            "[77.29825] [76.2]\n",
            "[78.017235] [76.]\n",
            "[77.777084] [77.]\n",
            "[78.22409] [76.2]\n",
            "[77.6574] [74.]\n",
            "[75.78487] [76.]\n",
            "[76.67462] [78.]\n",
            "[78.584854] [81.8]\n",
            "[81.59752] [81.]\n",
            "[81.28812] [81.7]\n",
            "[81.7685] [80.5]\n",
            "[80.86359] [82.]\n",
            "[82.007805] [79.]\n",
            "[79.80211] [80.4]\n",
            "[80.673325] [84.]\n",
            "[83.56445] [84.7]\n",
            "[84.19948] [82.6]\n"
          ],
          "name": "stdout"
        }
      ]
    },
    {
      "cell_type": "code",
      "metadata": {
        "id": "1m0EJ-SVZvc2"
      },
      "source": [
        ""
      ],
      "execution_count": null,
      "outputs": []
    }
  ]
}